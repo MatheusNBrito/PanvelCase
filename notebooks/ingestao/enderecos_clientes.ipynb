{
 "cells": [
  {
   "cell_type": "code",
   "execution_count": 1,
   "metadata": {},
   "outputs": [],
   "source": [
    "from pyspark.sql import SparkSession\n",
    "from pyspark.sql.functions import col, when, count\n",
    "from pyspark.sql import functions as F\n"
   ]
  },
  {
   "cell_type": "code",
   "execution_count": 2,
   "metadata": {},
   "outputs": [],
   "source": [
    "# Criar a sessão Spark\n",
    "spark = SparkSession.builder.appName(\"EnderecoClientesETL\").getOrCreate()"
   ]
  },
  {
   "cell_type": "code",
   "execution_count": 3,
   "metadata": {},
   "outputs": [],
   "source": [
    "# Lê o arquivo em formato parquet\n",
    "df_enderecos_clientes = spark.read.parquet('C:\\\\Users\\\\Theuzao\\\\Desktop\\\\panvel_datalake\\\\data\\\\raw\\\\enderecos_clientes.parquet')"
   ]
  },
  {
   "cell_type": "code",
   "execution_count": 4,
   "metadata": {},
   "outputs": [
    {
     "name": "stdout",
     "output_type": "stream",
     "text": [
      "+--------+--------+--------+-----+----+\n",
      "|v_id_cli|n_sq_end|d_dt_exc|v_lcl|v_uf|\n",
      "+--------+--------+--------+-----+----+\n",
      "|       0|       0|  133819|    0|   0|\n",
      "+--------+--------+--------+-----+----+\n",
      "\n"
     ]
    }
   ],
   "source": [
    "# Contar os valores faltantes em cada coluna\n",
    "df_enderecos_clientes.select([count(when(col(c).isNull(), c)).alias(c) for c in df_enderecos_clientes.columns]).show()\n",
    "# como o coluna d_dt_exc nao será usada para a solução do problema, nao será transformada"
   ]
  },
  {
   "cell_type": "code",
   "execution_count": 5,
   "metadata": {},
   "outputs": [
    {
     "name": "stdout",
     "output_type": "stream",
     "text": [
      "+--------------------+--------+--------------------+-----------------+----+\n",
      "|            v_id_cli|n_sq_end|            d_dt_exc|            v_lcl|v_uf|\n",
      "+--------------------+--------+--------------------+-----------------+----+\n",
      "|00D3BFA61A4EB684B1F5| 7470026|                null|         CURITIBA|  PR|\n",
      "|0313852B5434EC0A76D1| 6772409|                null|         LONDRINA|  PR|\n",
      "|04194EF6A82A8F1C519C| 6459025|                null|SANTA CRUZ DO SUL|  RS|\n",
      "|01AF764285A24153070B| 5912571|                null|     PORTO ALEGRE|  RS|\n",
      "|04A52338FAB5D10204AD|       1|                null|         GRAVATAI|  RS|\n",
      "|04D139F9FE86539E02F5|       1|                null|         CURITIBA|  PR|\n",
      "|035A054182C4F2CFF563|       1|                null|         CURITIBA|  PR|\n",
      "|0489FD8213030BE9A86B| 4404117|2023-03-17 10:42:...|     PORTO ALEGRE|  RS|\n",
      "|04808AA2CCD1D61D82CB| 2614487|                null|     PORTO ALEGRE|  RS|\n",
      "|025636ACDAC688833A0D|       1|                null|          PALHOCA|  SC|\n",
      "|04164C0A709C0E0FAFE9| 2773777|2020-08-07 14:55:...|     PORTO ALEGRE|  RS|\n",
      "|03E6C7A7634BFDD2E35E| 4361570|                null|     PORTO ALEGRE|  RS|\n",
      "|003B7330D29CD1253EB2| 6241853|                null|  SAPUCAIA DO SUL|  RS|\n",
      "|04954030F34FEBEFD91D| 1726041|                null|         BLUMENAU|  SC|\n",
      "|0111DD1052427B86B607| 4490379|                null|     PORTO ALEGRE|  RS|\n",
      "|03AE532F122100591FB7|       2|                null|      PASSO FUNDO|  RS|\n",
      "|009B687E9A9092CC04C9| 3720225|2021-05-29 10:22:...|             BAGE|  RS|\n",
      "|009B687E9A9092CC04C9| 4562404|2021-05-29 10:22:...|             BAGE|  RS|\n",
      "|04175E5A2B4654E2B086|       1|                null|         CURITIBA|  PR|\n",
      "|038D68695612BB24F2E5| 7442519|2022-05-12 11:24:...|     PORTO ALEGRE|  RS|\n",
      "+--------------------+--------+--------------------+-----------------+----+\n",
      "only showing top 20 rows\n",
      "\n"
     ]
    }
   ],
   "source": [
    "df_enderecos_clientes.show() "
   ]
  },
  {
   "cell_type": "code",
   "execution_count": 6,
   "metadata": {},
   "outputs": [],
   "source": [
    "# Converter todas as colunas para String após a leitura\n",
    "df_enderecos_clientes = df_enderecos_clientes.select([F.col(col_name).cast(\"string\").alias(col_name) for col_name in df_enderecos_clientes.columns])\n"
   ]
  },
  {
   "cell_type": "code",
   "execution_count": 7,
   "metadata": {},
   "outputs": [
    {
     "name": "stdout",
     "output_type": "stream",
     "text": [
      "root\n",
      " |-- v_id_cli: string (nullable = true)\n",
      " |-- n_sq_end: string (nullable = true)\n",
      " |-- d_dt_exc: string (nullable = true)\n",
      " |-- v_lcl: string (nullable = true)\n",
      " |-- v_uf: string (nullable = true)\n",
      "\n"
     ]
    }
   ],
   "source": [
    "df_enderecos_clientes.printSchema()"
   ]
  },
  {
   "cell_type": "code",
   "execution_count": 8,
   "metadata": {},
   "outputs": [],
   "source": [
    "# Salvar o DataFrame em formato Parquet\n",
    "df_enderecos_clientes.write.mode(\"overwrite\").option(\"header\", \"true\").csv(\"C:/Users/Theuzao/Desktop/panvel_datalake/data/transformed/endereco_clientes\")\n"
   ]
  },
  {
   "cell_type": "code",
   "execution_count": 9,
   "metadata": {},
   "outputs": [],
   "source": [
    "# Gravar os dados no PostgreSQL\n",
    "# df_enderecos_clientes.write.jdbc(url=url, table=\"endereco_clientes\", mode=\"overwrite\", properties=properties)\n",
    "\n",
    "# Encerra a sessão Spark\n",
    "spark.stop()"
   ]
  }
 ],
 "metadata": {
  "kernelspec": {
   "display_name": "Python 3",
   "language": "python",
   "name": "python3"
  },
  "language_info": {
   "codemirror_mode": {
    "name": "ipython",
    "version": 3
   },
   "file_extension": ".py",
   "mimetype": "text/x-python",
   "name": "python",
   "nbconvert_exporter": "python",
   "pygments_lexer": "ipython3",
   "version": "3.12.6"
  }
 },
 "nbformat": 4,
 "nbformat_minor": 2
}
