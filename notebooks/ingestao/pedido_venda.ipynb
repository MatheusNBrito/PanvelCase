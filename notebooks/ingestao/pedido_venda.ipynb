{
 "cells": [
  {
   "cell_type": "code",
   "execution_count": 1,
   "metadata": {},
   "outputs": [],
   "source": [
    "from pyspark.sql import SparkSession\n",
    "from pyspark.sql.types import *\n",
    "from pyspark.sql import functions as F\n"
   ]
  },
  {
   "cell_type": "code",
   "execution_count": 2,
   "metadata": {},
   "outputs": [],
   "source": [
    "# Criar a sessão Spark\n",
    "spark = SparkSession.builder.appName(\"PanvelETL\").getOrCreate()"
   ]
  },
  {
   "cell_type": "code",
   "execution_count": 3,
   "metadata": {},
   "outputs": [],
   "source": [
    "# Lê o arquivo Parquet\n",
    "df_pedido_venda = spark.read.parquet('C:\\\\Users\\\\Theuzao\\\\Desktop\\\\panvel_datalake\\\\data\\\\raw\\\\pedido_venda.parquet')"
   ]
  },
  {
   "cell_type": "code",
   "execution_count": 4,
   "metadata": {},
   "outputs": [
    {
     "name": "stdout",
     "output_type": "stream",
     "text": [
      "root\n",
      " |-- n_id_fil: long (nullable = true)\n",
      " |-- n_id_vd_fil: long (nullable = true)\n",
      " |-- n_id_pdd: long (nullable = true)\n",
      "\n"
     ]
    }
   ],
   "source": [
    "# Mostra o schema\n",
    "df_pedido_venda.printSchema()"
   ]
  },
  {
   "cell_type": "code",
   "execution_count": 5,
   "metadata": {},
   "outputs": [],
   "source": [
    "# Converter todas as colunas para String após a leitura\n",
    "df_pedido_venda = df_pedido_venda.select([F.col(col_name).cast(\"string\").alias(col_name) for col_name in df_pedido_venda.columns])\n"
   ]
  },
  {
   "cell_type": "code",
   "execution_count": 6,
   "metadata": {},
   "outputs": [
    {
     "name": "stdout",
     "output_type": "stream",
     "text": [
      "+--------+-----------+-------------+\n",
      "|n_id_fil|n_id_vd_fil|     n_id_pdd|\n",
      "+--------+-----------+-------------+\n",
      "| 2408784|34262326131|1189183932027|\n",
      "|  242984|35434048331|1189596350677|\n",
      "| 2657984| 3474198431|1192614919827|\n",
      "| 2517984|  409543431|1188810414807|\n",
      "| 2457084| 4339980931|1192522099777|\n",
      "|  229684|35465235531|1188385018407|\n",
      "| 2620184| 3789478231|1187171860557|\n",
      "| 2174984|35255133331|1186640698547|\n",
      "| 2662184| 3752751431|1188256482257|\n",
      "|  249284|35437182231|1185665835127|\n",
      "| 2626484| 3573693431|1192236782787|\n",
      "| 2462684|34129728831|1193157735357|\n",
      "| 2471784| 4054827931|1191233879657|\n",
      "| 2310784|34374246731|1187244935557|\n",
      "| 2453584|34547578131|1184629304547|\n",
      "| 2593584| 4082528131|1184834489897|\n",
      "|  236684|39168868431|1191362606727|\n",
      "| 2454284|34532390431|1193198429067|\n",
      "| 2480184| 3964413431|1186700409887|\n",
      "| 2362584| 3865283631|1187801635707|\n",
      "+--------+-----------+-------------+\n",
      "only showing top 20 rows\n",
      "\n"
     ]
    }
   ],
   "source": [
    "df_pedido_venda.show() "
   ]
  },
  {
   "cell_type": "code",
   "execution_count": 7,
   "metadata": {},
   "outputs": [],
   "source": [
    "# Salvar o DataFrame em formato CSV\n",
    "df_pedido_venda.write.mode(\"overwrite\").option(\"header\", \"true\").csv(\"C:\\\\Users\\\\Theuzao\\\\Desktop\\\\panvel_datalake\\\\data\\\\transformed\\\\pedido_venda\")"
   ]
  },
  {
   "cell_type": "code",
   "execution_count": 8,
   "metadata": {},
   "outputs": [],
   "source": [
    "# Encerra a sessão Spark\n",
    "spark.stop()"
   ]
  }
 ],
 "metadata": {
  "kernelspec": {
   "display_name": "Python 3",
   "language": "python",
   "name": "python3"
  },
  "language_info": {
   "codemirror_mode": {
    "name": "ipython",
    "version": 3
   },
   "file_extension": ".py",
   "mimetype": "text/x-python",
   "name": "python",
   "nbconvert_exporter": "python",
   "pygments_lexer": "ipython3",
   "version": "3.12.6"
  }
 },
 "nbformat": 4,
 "nbformat_minor": 2
}
