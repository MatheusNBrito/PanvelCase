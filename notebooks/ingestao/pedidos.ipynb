{
 "cells": [
  {
   "cell_type": "code",
   "execution_count": 1,
   "metadata": {},
   "outputs": [],
   "source": [
    "from pyspark.sql import SparkSession\n",
    "from pyspark.sql.functions import col, when, count\n",
    "from pyspark.sql.types import *\n",
    "from pyspark.sql import functions as F\n"
   ]
  },
  {
   "cell_type": "code",
   "execution_count": 2,
   "metadata": {},
   "outputs": [],
   "source": [
    "# Criar a sessão Spark (criar apenas uma vez)\n",
    "spark = SparkSession.builder.appName(\"PedidoslETL\").getOrCreate()\n",
    "\n",
    "# Ler o arquivo Parquet com o spark\n",
    "df_pedidos = spark.read.parquet('C:\\\\Users\\\\Theuzao\\\\Desktop\\\\panvel_datalake\\\\data\\\\raw\\\\pedidos.parquet')"
   ]
  },
  {
   "cell_type": "code",
   "execution_count": null,
   "metadata": {},
   "outputs": [
    {
     "name": "stdout",
     "output_type": "stream",
     "text": [
      "root\n",
      " |-- n_id_pdd: long (nullable = true)\n",
      " |-- d_dt_eft_pdd: date (nullable = true)\n",
      " |-- d_dt_entr_pdd: timestamp (nullable = true)\n",
      " |-- v_cnl_orig_pdd: string (nullable = true)\n",
      " |-- v_uf_entr_pdd: string (nullable = true)\n",
      " |-- v_lc_ent_pdd: string (nullable = true)\n",
      " |-- n_vlr_tot_pdd: decimal(38,2) (nullable = true)\n",
      "\n"
     ]
    }
   ],
   "source": [
    "# Imprime o Schema\n",
    "df_pedidos.printSchema()"
   ]
  },
  {
   "cell_type": "markdown",
   "metadata": {},
   "source": [
    "Tratamento dos dados"
   ]
  },
  {
   "cell_type": "code",
   "execution_count": 4,
   "metadata": {},
   "outputs": [
    {
     "name": "stdout",
     "output_type": "stream",
     "text": [
      "+--------+------------+-------------+--------------+-------------+------------+-------------+\n",
      "|n_id_pdd|d_dt_eft_pdd|d_dt_entr_pdd|v_cnl_orig_pdd|v_uf_entr_pdd|v_lc_ent_pdd|n_vlr_tot_pdd|\n",
      "+--------+------------+-------------+--------------+-------------+------------+-------------+\n",
      "|      61|        8139|         8139|             0|            0|           0|            0|\n",
      "+--------+------------+-------------+--------------+-------------+------------+-------------+\n",
      "\n"
     ]
    }
   ],
   "source": [
    "# Contar os valores faltantes em cada coluna\n",
    "df_pedidos.select([count(when(col(c).isNull(), c)).alias(c) for c in df_pedidos.columns]).show()"
   ]
  },
  {
   "cell_type": "code",
   "execution_count": 5,
   "metadata": {},
   "outputs": [],
   "source": [
    "# Preencher valores nulos nas colunas numéricas e de strings\n",
    "df_pedidos = df_pedidos.withColumn(\n",
    "    \"n_id_pdd\",\n",
    "    F.when(F.col(\"n_id_pdd\").isNull(), \"Desconhecido\").otherwise(F.col(\"n_id_pdd\"))\n",
    ")\n",
    "\n",
    "# Preencher valores nulos nas colunas de data com '2001-01-01'\n",
    "df_pedidos = df_pedidos.withColumn(\n",
    "    \"d_dt_eft_pdd\",\n",
    "    F.when(F.col(\"d_dt_eft_pdd\").isNull(), F.lit(\"2001-01-01\")).otherwise(F.col(\"d_dt_eft_pdd\"))\n",
    ").withColumn(\n",
    "    \"d_dt_entr_pdd\",\n",
    "    F.when(F.col(\"d_dt_entr_pdd\").isNull(), F.lit(\"2001-01-01\")).otherwise(F.col(\"d_dt_entr_pdd\"))\n",
    ")\n"
   ]
  },
  {
   "cell_type": "code",
   "execution_count": 6,
   "metadata": {},
   "outputs": [],
   "source": [
    "# Converter todas as colunas para String após a leitura\n",
    "df_pedidos = df_pedidos.select([F.col(col_name).cast(\"string\").alias(col_name) for col_name in df_pedidos.columns])\n"
   ]
  },
  {
   "cell_type": "code",
   "execution_count": 7,
   "metadata": {},
   "outputs": [
    {
     "name": "stdout",
     "output_type": "stream",
     "text": [
      "+-------------+------------+-------------------+--------------+-------------+--------------+-------------+\n",
      "|     n_id_pdd|d_dt_eft_pdd|      d_dt_entr_pdd|v_cnl_orig_pdd|v_uf_entr_pdd|  v_lc_ent_pdd|n_vlr_tot_pdd|\n",
      "+-------------+------------+-------------------+--------------+-------------+--------------+-------------+\n",
      "|1187021679777|  2023-09-13|2023-09-13 21:49:15|             L|           RS|        VIAMAO|        19.99|\n",
      "|1187888931657|  2023-09-29|2023-09-29 21:11:38|             L|           RS|  PORTO ALEGRE|        36.98|\n",
      "|1187806295857|  2023-09-28|2023-09-28 21:00:10|             L|           RS|  PORTO ALEGRE|        29.56|\n",
      "|1187490058337|  2023-09-22|2023-09-22 20:59:02|             L|           RS|  PORTO ALEGRE|        37.97|\n",
      "|1186976289657|  2023-09-12|2023-09-12 21:40:09|             L|           RS|  PORTO ALEGRE|        39.93|\n",
      "|1187367744477|  2023-09-19|2023-09-19 21:05:09|             L|           RS|   SANTA MARIA|        14.89|\n",
      "|1187489749387|  2023-09-22|2023-09-22 21:02:57|             L|           RS|  PORTO ALEGRE|        44.97|\n",
      "|1186347530157|  2023-09-01|2023-09-01 21:16:04|             L|           RS|        CANELA|        21.75|\n",
      "|1186744280417|  2023-09-08|2023-09-08 21:17:36|             L|           RS| CAXIAS DO SUL|        51.48|\n",
      "|1187439836017|  2023-09-21|2023-09-21 21:05:30|             L|           RS|    URUGUAIANA|        35.99|\n",
      "|1186315504067|  2023-09-01|2023-09-01 21:19:05|             L|           RS|   SANTA MARIA|         9.97|\n",
      "|1186571878177|  2023-09-05|2023-09-05 22:22:53|             L|           RS|    URUGUAIANA|        37.58|\n",
      "|1186506325647|  2023-09-04|2023-09-04 21:48:40|             L|           RS|        CANOAS|         9.98|\n",
      "|1187439694307|  2023-09-21|2023-09-21 21:08:01|             L|           RS|        GUAIBA|        23.97|\n",
      "|1187371253557|  2023-09-19|2023-09-19 20:58:54|             L|           RS|  PORTO ALEGRE|        22.47|\n",
      "|1187092744197|  2023-09-14|2023-09-14 21:49:46|             L|           RS| NOVO HAMBURGO|       391.94|\n",
      "|1187191044317|  2023-09-16|2023-09-16 21:10:45|             L|           RS|  PORTO ALEGRE|        38.97|\n",
      "|1187371202497|  2023-09-19|2023-09-19 21:07:40|             L|           RS|CAPAO DA CANOA|        44.35|\n",
      "|1187516368667|  2023-09-22|2023-09-22 21:04:15|             L|           RS|  PORTO ALEGRE|        85.64|\n",
      "|1187486534087|  2023-09-21|2023-09-22 21:11:24|             L|           RS|  PORTO ALEGRE|         3.79|\n",
      "+-------------+------------+-------------------+--------------+-------------+--------------+-------------+\n",
      "only showing top 20 rows\n",
      "\n"
     ]
    }
   ],
   "source": [
    "# Mostrar o dataframe\n",
    "df_pedidos.show() "
   ]
  },
  {
   "cell_type": "code",
   "execution_count": 8,
   "metadata": {},
   "outputs": [],
   "source": [
    "# Salvar o DataFrame em formato CSV\n",
    "df_pedidos.write.mode(\"overwrite\").option(\"header\", \"true\").csv(\"C:\\\\Users\\\\Theuzao\\\\Desktop\\\\panvel_datalake\\\\data\\\\transformed\\\\pedidos\")"
   ]
  },
  {
   "cell_type": "code",
   "execution_count": 9,
   "metadata": {},
   "outputs": [],
   "source": [
    "# Encerra a sessão Spark\n",
    "spark.stop()"
   ]
  }
 ],
 "metadata": {
  "kernelspec": {
   "display_name": "Python 3",
   "language": "python",
   "name": "python3"
  },
  "language_info": {
   "codemirror_mode": {
    "name": "ipython",
    "version": 3
   },
   "file_extension": ".py",
   "mimetype": "text/x-python",
   "name": "python",
   "nbconvert_exporter": "python",
   "pygments_lexer": "ipython3",
   "version": "3.12.6"
  }
 },
 "nbformat": 4,
 "nbformat_minor": 2
}
