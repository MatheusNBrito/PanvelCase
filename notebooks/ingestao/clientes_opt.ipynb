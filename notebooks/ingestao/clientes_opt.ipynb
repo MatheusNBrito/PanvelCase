{
 "cells": [
  {
   "cell_type": "code",
   "execution_count": 1,
   "metadata": {},
   "outputs": [],
   "source": [
    "from pyspark.sql import SparkSession\n",
    "from pyspark.sql.functions import col, when, count\n",
    "from pyspark.sql import functions as F\n"
   ]
  },
  {
   "cell_type": "code",
   "execution_count": 2,
   "metadata": {},
   "outputs": [],
   "source": [
    "# Criar a sessão Spark\n",
    "spark = SparkSession.builder.appName(\"ClientesOptETL\").getOrCreate()"
   ]
  },
  {
   "cell_type": "code",
   "execution_count": 3,
   "metadata": {},
   "outputs": [],
   "source": [
    "# Ler o arquivo JSON\n",
    "df_clientes_opt = spark.read.json('C:\\\\Users\\\\Theuzao\\\\Desktop\\\\panvel_datalake\\\\data\\\\raw\\\\clientes_opt.json')\n"
   ]
  },
  {
   "cell_type": "code",
   "execution_count": 4,
   "metadata": {},
   "outputs": [],
   "source": [
    "# Converter todas as colunas para String após a leitura\n",
    "df_clientes_opt = df_clientes_opt.select([F.col(col_name).cast(\"string\").alias(col_name) for col_name in df_clientes_opt.columns])\n"
   ]
  },
  {
   "cell_type": "code",
   "execution_count": 5,
   "metadata": {},
   "outputs": [
    {
     "name": "stdout",
     "output_type": "stream",
     "text": [
      "+------+-------+------+-----+--------------------+\n",
      "|b_call|b_email|b_push|b_sms|            v_id_cli|\n",
      "+------+-------+------+-----+--------------------+\n",
      "|  true|   true|  true| true|010FC87179A2C7940661|\n",
      "|  null|   true|  null| true|04B2DB249A9623A2371B|\n",
      "|  true|   true| false| true|0248D7A8AA7D752A2AF9|\n",
      "| false|  false| false|false|02ABD1DDB59E705FCE49|\n",
      "|  null|   true|  null| null|050C08C7789F8BF18F10|\n",
      "|  null|   true|  null| null|044D8241C0BA9EB8A2BD|\n",
      "| false|  false| false|false|0236AE95865254140BEC|\n",
      "|  null|   true|  true| null|04E8FC308B3A1CC4CC90|\n",
      "|  null|   null|  null|false|027B23C4BD585D29DBA9|\n",
      "| false|  false| false|false|016BC87B3EFE0230E53A|\n",
      "| false|   true| false|false|01631A90EAF2477D949E|\n",
      "|  null|   null|  true| null|04889DF12594121513BB|\n",
      "|  null|   null| false| true|037999CC78E16B39B86D|\n",
      "|  true|   true|  true| true|006DB98427A7777F6633|\n",
      "|  true|   true|  true| true|00AB23E7BEC55559643B|\n",
      "| false|   true| false|false|042510CD68CC179D619D|\n",
      "|  null|   true|  null|false|00473E5A6B9C720A67BB|\n",
      "|  null|   true|  null| null|022E478ED113550CD685|\n",
      "| false|  false| false| true|0122A2D0F73968122F4D|\n",
      "|  null|   true|  null| null|01C9E1F9DB8DE5E9EBE2|\n",
      "+------+-------+------+-----+--------------------+\n",
      "only showing top 20 rows\n",
      "\n"
     ]
    }
   ],
   "source": [
    "df_clientes_opt.show()"
   ]
  },
  {
   "cell_type": "code",
   "execution_count": 6,
   "metadata": {},
   "outputs": [
    {
     "name": "stdout",
     "output_type": "stream",
     "text": [
      "+------+-------+------+-----+--------+\n",
      "|b_call|b_email|b_push|b_sms|v_id_cli|\n",
      "+------+-------+------+-----+--------+\n",
      "| 43708|  18283| 41144|20099|       0|\n",
      "+------+-------+------+-----+--------+\n",
      "\n"
     ]
    }
   ],
   "source": [
    "# Contagem de valores nulos\n",
    "df_clientes_opt.select([count(when(col(c).isNull(), c)).alias(c) for c in df_clientes_opt.columns]).show()"
   ]
  },
  {
   "cell_type": "code",
   "execution_count": 7,
   "metadata": {},
   "outputs": [
    {
     "name": "stdout",
     "output_type": "stream",
     "text": [
      "DataFrame após substituição de valores nulos:\n",
      "+------------+------------+------------+------------+--------------------+\n",
      "|      b_call|     b_email|      b_push|       b_sms|            v_id_cli|\n",
      "+------------+------------+------------+------------+--------------------+\n",
      "|         Sim|         Sim|         Sim|         Sim|010FC87179A2C7940661|\n",
      "|Desconhecido|         Sim|Desconhecido|         Sim|04B2DB249A9623A2371B|\n",
      "|         Sim|         Sim|         Não|         Sim|0248D7A8AA7D752A2AF9|\n",
      "|         Não|         Não|         Não|         Não|02ABD1DDB59E705FCE49|\n",
      "|Desconhecido|         Sim|Desconhecido|Desconhecido|050C08C7789F8BF18F10|\n",
      "|Desconhecido|         Sim|Desconhecido|Desconhecido|044D8241C0BA9EB8A2BD|\n",
      "|         Não|         Não|         Não|         Não|0236AE95865254140BEC|\n",
      "|Desconhecido|         Sim|         Sim|Desconhecido|04E8FC308B3A1CC4CC90|\n",
      "|Desconhecido|Desconhecido|Desconhecido|         Não|027B23C4BD585D29DBA9|\n",
      "|         Não|         Não|         Não|         Não|016BC87B3EFE0230E53A|\n",
      "|         Não|         Sim|         Não|         Não|01631A90EAF2477D949E|\n",
      "|Desconhecido|Desconhecido|         Sim|Desconhecido|04889DF12594121513BB|\n",
      "|Desconhecido|Desconhecido|         Não|         Sim|037999CC78E16B39B86D|\n",
      "|         Sim|         Sim|         Sim|         Sim|006DB98427A7777F6633|\n",
      "|         Sim|         Sim|         Sim|         Sim|00AB23E7BEC55559643B|\n",
      "|         Não|         Sim|         Não|         Não|042510CD68CC179D619D|\n",
      "|Desconhecido|         Sim|Desconhecido|         Não|00473E5A6B9C720A67BB|\n",
      "|Desconhecido|         Sim|Desconhecido|Desconhecido|022E478ED113550CD685|\n",
      "|         Não|         Não|         Não|         Sim|0122A2D0F73968122F4D|\n",
      "|Desconhecido|         Sim|Desconhecido|Desconhecido|01C9E1F9DB8DE5E9EBE2|\n",
      "+------------+------------+------------+------------+--------------------+\n",
      "only showing top 20 rows\n",
      "\n"
     ]
    }
   ],
   "source": [
    "# Tranformação dos valores booleanos para Sim, Não, Desconhecido\n",
    "\n",
    "df_clientes_opt = df_clientes_opt.withColumn(\n",
    "    \"b_call\",\n",
    "    F.when(F.col(\"b_call\").isNull(), \"Desconhecido\")\n",
    "     .when(F.col(\"b_call\") == True, \"Sim\")\n",
    "     .otherwise(\"Não\")\n",
    ")\n",
    "\n",
    "df_clientes_opt = df_clientes_opt.withColumn(\n",
    "    \"b_email\",\n",
    "    F.when(F.col(\"b_email\").isNull(), \"Desconhecido\")\n",
    "     .when(F.col(\"b_email\") == True, \"Sim\")\n",
    "     .otherwise(\"Não\")\n",
    ")\n",
    "\n",
    "df_clientes_opt = df_clientes_opt.withColumn(\n",
    "    \"b_push\",\n",
    "    F.when(F.col(\"b_push\").isNull(), \"Desconhecido\")\n",
    "     .when(F.col(\"b_push\") == True, \"Sim\")\n",
    "     .otherwise(\"Não\")\n",
    ")\n",
    "\n",
    "df_clientes_opt = df_clientes_opt.withColumn(\n",
    "    \"b_sms\",\n",
    "    F.when(F.col(\"b_sms\").isNull(), \"Desconhecido\")\n",
    "     .when(F.col(\"b_sms\") == True, \"Sim\")\n",
    "     .otherwise(\"Não\")\n",
    ")\n",
    "\n",
    "# Mostrar DataFrame após substituição\n",
    "print(\"DataFrame após substituição de valores nulos:\")\n",
    "df_clientes_opt.show()"
   ]
  },
  {
   "cell_type": "code",
   "execution_count": 8,
   "metadata": {},
   "outputs": [],
   "source": [
    "# Salvar o DataFrame em formato CSV\n",
    "df_clientes_opt.write.mode(\"overwrite\").option(\"header\", \"true\").csv(\"C:\\\\Users\\\\Theuzao\\\\Desktop\\\\panvel_datalake\\\\data\\\\transformed\\\\clientes_opt\")"
   ]
  },
  {
   "cell_type": "code",
   "execution_count": 9,
   "metadata": {},
   "outputs": [],
   "source": [
    "# Encerra a sessão Spark\n",
    "spark.stop()"
   ]
  }
 ],
 "metadata": {
  "kernelspec": {
   "display_name": "Python 3",
   "language": "python",
   "name": "python3"
  },
  "language_info": {
   "codemirror_mode": {
    "name": "ipython",
    "version": 3
   },
   "file_extension": ".py",
   "mimetype": "text/x-python",
   "name": "python",
   "nbconvert_exporter": "python",
   "pygments_lexer": "ipython3",
   "version": "3.12.6"
  }
 },
 "nbformat": 4,
 "nbformat_minor": 2
}
