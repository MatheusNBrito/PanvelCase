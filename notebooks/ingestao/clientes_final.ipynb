{
 "cells": [
  {
   "cell_type": "code",
   "execution_count": 16,
   "metadata": {},
   "outputs": [],
   "source": [
    "from pyspark.sql import SparkSession\n",
    "from pyspark.sql import functions as F\n"
   ]
  },
  {
   "cell_type": "markdown",
   "metadata": {},
   "source": [
    "#### Continuar finalizando os clientes"
   ]
  },
  {
   "cell_type": "code",
   "execution_count": 17,
   "metadata": {},
   "outputs": [],
   "source": [
    "# Criar a sessão Spark \n",
    "spark = SparkSession.builder.appName(\"ClientesFinalETL\").getOrCreate()\n"
   ]
  },
  {
   "cell_type": "code",
   "execution_count": 18,
   "metadata": {},
   "outputs": [
    {
     "name": "stdout",
     "output_type": "stream",
     "text": [
      "root\n",
      " |-- v_id_cli: string (nullable = true)\n",
      " |-- d_dt_nasc: date (nullable = true)\n",
      " |-- v_sx_cli: string (nullable = true)\n",
      " |-- n_est_cvl: integer (nullable = true)\n",
      " |-- idade: integer (nullable = true)\n",
      "\n"
     ]
    }
   ],
   "source": [
    "# Ler o arquivo transformado\n",
    "# Informa o caminho do arquivo\n",
    "caminho_clientes = \"C:\\\\Users\\\\Theuzao\\\\Desktop\\\\panvel_datalake\\\\data\\\\transformed\\\\clientes\"\n",
    "clientes = spark.read.csv(caminho_clientes, header=True, inferSchema=True)\n",
    "#Imprime o Schema\n",
    "clientes.printSchema()"
   ]
  },
  {
   "cell_type": "code",
   "execution_count": 19,
   "metadata": {},
   "outputs": [],
   "source": [
    "# Converter todas as colunas para String após a leitura\n",
    "clientes = clientes.select([F.col(col_name).cast(\"string\").alias(col_name) for col_name in clientes.columns])\n"
   ]
  },
  {
   "cell_type": "code",
   "execution_count": 20,
   "metadata": {},
   "outputs": [
    {
     "name": "stdout",
     "output_type": "stream",
     "text": [
      "+--------------------+----------+--------+---------+-----+\n",
      "|            v_id_cli| d_dt_nasc|v_sx_cli|n_est_cvl|idade|\n",
      "+--------------------+----------+--------+---------+-----+\n",
      "|0000009DB36F622B7639|2003-11-14|       F|        0|   20|\n",
      "|000000F51C15031D708E|2008-03-23|       F|        0|   16|\n",
      "|00000F54BE2BBF0E7B13|1986-02-24|       F|        0|   38|\n",
      "|000013E1FB44D9A9E50F|1984-12-13|       M|        0|   39|\n",
      "|00001522AD94645C7688|1992-11-10|       F|        2|   31|\n",
      "|0000161185110EE1BBE5|1975-12-27|       F|        0|   48|\n",
      "|0000269BBD1888477D56|1961-10-25|       M|        0|   63|\n",
      "|0000289F7EF0375B679D|1983-11-05|       F|        1|   40|\n",
      "|00002A10FB7B5E5CB107|1991-08-19|       M|        0|   33|\n",
      "|00002F84FF8B063A952C|1975-06-13|       F|        0|   49|\n",
      "|000033354ABAAD3F2FA8|1964-01-01|       F|        1|   60|\n",
      "|00003490C16D52FEB4C2|2004-03-20|       F|        0|   20|\n",
      "|000040FC122DB8AEEF51|1982-04-06|       F|        0|   42|\n",
      "|000042FA835BDA98ACCE|1965-05-03|       M|        2|   59|\n",
      "|000046B0542EFC2E550A|1990-06-02|       F|        1|   34|\n",
      "|00004A80EE1AE5324A9E|1946-05-14|       N|        0|   78|\n",
      "|00004B9802657262B995|1996-03-06|       N|        0|   28|\n",
      "|00004CAACD07633F2C95|1978-11-26|       F|        0|   45|\n",
      "|0000524920EA26B08218|1999-09-14|       N|        0|   25|\n",
      "|00005651B2086081178C|1961-06-19|       F|        0|   63|\n",
      "+--------------------+----------+--------+---------+-----+\n",
      "only showing top 20 rows\n",
      "\n"
     ]
    }
   ],
   "source": [
    "clientes.show()"
   ]
  },
  {
   "cell_type": "code",
   "execution_count": 21,
   "metadata": {},
   "outputs": [
    {
     "name": "stdout",
     "output_type": "stream",
     "text": [
      "root\n",
      " |-- v_id_cli: string (nullable = true)\n",
      " |-- n_sq_end: integer (nullable = true)\n",
      " |-- d_dt_exc: timestamp (nullable = true)\n",
      " |-- v_lcl: string (nullable = true)\n",
      " |-- v_uf: string (nullable = true)\n",
      "\n"
     ]
    }
   ],
   "source": [
    "# Ler o arquivo transformado\n",
    "# Informa o caminho do arquivo\n",
    "caminho_enderecos_clientes = \"C:\\\\Users\\\\Theuzao\\\\Desktop\\\\panvel_datalake\\\\data\\\\transformed\\\\endereco_clientes\"\n",
    "endereco_clientes = spark.read.csv(caminho_enderecos_clientes, header=True, inferSchema=True)\n",
    "# Imprime o Schema\n",
    "endereco_clientes.printSchema()"
   ]
  },
  {
   "cell_type": "code",
   "execution_count": 22,
   "metadata": {},
   "outputs": [
    {
     "name": "stdout",
     "output_type": "stream",
     "text": [
      "root\n",
      " |-- b_call: string (nullable = true)\n",
      " |-- b_email: string (nullable = true)\n",
      " |-- b_push: string (nullable = true)\n",
      " |-- b_sms: string (nullable = true)\n",
      " |-- v_id_cli: string (nullable = true)\n",
      "\n"
     ]
    }
   ],
   "source": [
    "# Ler o arquivo transformado\n",
    "# Informa o caminho do arquivo\n",
    "caminho_clientes_opt = \"C:\\\\Users\\\\Theuzao\\\\Desktop\\\\panvel_datalake\\\\data\\\\transformed\\\\clientes_opt\"\n",
    "clientes_opt = spark.read.csv(caminho_clientes_opt, header=True, inferSchema=True)\n",
    "# Imprime o Schema\n",
    "clientes_opt.printSchema()"
   ]
  },
  {
   "cell_type": "code",
   "execution_count": 23,
   "metadata": {},
   "outputs": [],
   "source": [
    "# Carregar os DataFrames 'clientes_com_idade', 'endereco_clientes', e 'clientes_opt'\n",
    "df_clientes = clientes.alias(\"clientes\")\n",
    "df_enderecos = endereco_clientes.alias(\"enderecos\")\n",
    "df_clientes_opt = clientes_opt.alias(\"opt\")"
   ]
  },
  {
   "cell_type": "code",
   "execution_count": 24,
   "metadata": {},
   "outputs": [],
   "source": [
    "# Filtrar apenas endereços ativos (sem data de exclusão)\n",
    "df_enderecos_ativos = df_enderecos.filter(F.col(\"d_dt_exc\").isNull())\n"
   ]
  },
  {
   "cell_type": "code",
   "execution_count": 25,
   "metadata": {},
   "outputs": [],
   "source": [
    "# Realizar o join entre clientes e endereços, usando \"v_id_cli\" como chave\n",
    "df_clientes_com_endereco = df_clientes.join(\n",
    "    df_enderecos_ativos,\n",
    "    df_clientes[\"v_id_cli\"] == df_enderecos_ativos[\"v_id_cli\"],\n",
    "    how=\"left\"\n",
    ").select(\n",
    "    df_clientes[\"v_id_cli\"].alias(\"codigo_cliente\"),\n",
    "    df_clientes[\"d_dt_nasc\"].alias(\"data_nascimento\"),\n",
    "    df_clientes[\"idade\"],\n",
    "    df_clientes[\"v_sx_cli\"].alias(\"sexo\"),\n",
    "    df_enderecos_ativos[\"v_uf\"].alias(\"uf\"),\n",
    "    df_enderecos_ativos[\"v_lcl\"].alias(\"cidade\"),\n",
    "    df_clientes[\"n_est_cvl\"].alias(\"estado_civil\")\n",
    ")\n"
   ]
  },
  {
   "cell_type": "code",
   "execution_count": 26,
   "metadata": {},
   "outputs": [],
   "source": [
    "# Tratamento dos valores nulos para os campos de localização (cidade e UF)\n",
    "df_clientes_com_endereco = df_clientes_com_endereco.fillna({\n",
    "    \"uf\": \"Desconhecido\",\n",
    "    \"cidade\": \"Desconhecido\"\n",
    "})\n"
   ]
  },
  {
   "cell_type": "code",
   "execution_count": 27,
   "metadata": {},
   "outputs": [],
   "source": [
    "# Realizar o join entre `df_clientes_com_endereco` e `clientes_opt` para adicionar as informações de consentimento\n",
    "# Usa a função coalesce para tratar valores nulos nas colunas de df_clientes_opt.\n",
    "# Se o valor da coluna \"b_call\" for nulo, será substituído pela string \"Desconhecido\".\n",
    "# A nova coluna será renomeada para \"flag_lgpd_call\".\n",
    "df_clientes_final = df_clientes_com_endereco.join(\n",
    "    df_clientes_opt,\n",
    "    df_clientes_com_endereco[\"codigo_cliente\"] == df_clientes_opt[\"v_id_cli\"],\n",
    "    how=\"left\"\n",
    ").select(\n",
    "    df_clientes_com_endereco[\"*\"],\n",
    "    F.coalesce(df_clientes_opt[\"b_call\"], F.lit(\"Desconhecido\")).alias(\"flag_lgpd_call\"),\n",
    "    F.coalesce(df_clientes_opt[\"b_sms\"], F.lit(\"Desconhecido\")).alias(\"flag_lgpd_sms\"),\n",
    "    F.coalesce(df_clientes_opt[\"b_email\"], F.lit(\"Desconhecido\")).alias(\"flag_lgpd_email\"),\n",
    "    F.coalesce(df_clientes_opt[\"b_push\"], F.lit(\"Desconhecido\")).alias(\"flag_lgpd_push\")\n",
    ")\n",
    "\n",
    "\n"
   ]
  },
  {
   "cell_type": "code",
   "execution_count": 28,
   "metadata": {},
   "outputs": [
    {
     "name": "stdout",
     "output_type": "stream",
     "text": [
      "+--------------------+---------------+-----+----+------------+-------------+------------+--------------+-------------+---------------+--------------+\n",
      "|codigo_cliente      |data_nascimento|idade|sexo|uf          |cidade       |estado_civil|flag_lgpd_call|flag_lgpd_sms|flag_lgpd_email|flag_lgpd_push|\n",
      "+--------------------+---------------+-----+----+------------+-------------+------------+--------------+-------------+---------------+--------------+\n",
      "|0000009DB36F622B7639|2003-11-14     |20   |F   |RS          |PORTO ALEGRE |0           |Desconhecido  |Desconhecido |Desconhecido   |Desconhecido  |\n",
      "|000000F51C15031D708E|2008-03-23     |16   |F   |SC          |LAGES        |0           |Desconhecido  |Desconhecido |Desconhecido   |Desconhecido  |\n",
      "|00000F54BE2BBF0E7B13|1986-02-24     |38   |F   |Desconhecido|Desconhecido |0           |Desconhecido  |Desconhecido |Desconhecido   |Desconhecido  |\n",
      "|000013E1FB44D9A9E50F|1984-12-13     |39   |M   |Desconhecido|Desconhecido |0           |Desconhecido  |Sim          |Sim            |Desconhecido  |\n",
      "|00001522AD94645C7688|1992-11-10     |31   |F   |SC          |SAO JOSE     |2           |Sim           |Sim          |Sim            |Sim           |\n",
      "|00001522AD94645C7688|1992-11-10     |31   |F   |SC          |SAO JOSE     |2           |Sim           |Sim          |Sim            |Sim           |\n",
      "|00001522AD94645C7688|1992-11-10     |31   |F   |SC          |FLORIANOPOLIS|2           |Sim           |Sim          |Sim            |Sim           |\n",
      "|0000161185110EE1BBE5|1975-12-27     |48   |F   |SP          |SAO PAULO    |0           |Desconhecido  |Sim          |Desconhecido   |Desconhecido  |\n",
      "|0000269BBD1888477D56|1961-10-25     |63   |M   |PR          |PARANAVAI    |0           |Desconhecido  |Desconhecido |Não            |Desconhecido  |\n",
      "|0000269BBD1888477D56|1961-10-25     |63   |M   |PR          |PARANAVAI    |0           |Desconhecido  |Desconhecido |Não            |Desconhecido  |\n",
      "|0000289F7EF0375B679D|1983-11-05     |40   |F   |RS          |CAXIAS DO SUL|1           |Sim           |Sim          |Sim            |Sim           |\n",
      "|00002A10FB7B5E5CB107|1991-08-19     |33   |M   |RS          |CAXIAS DO SUL|0           |Desconhecido  |Sim          |Desconhecido   |Desconhecido  |\n",
      "|00002F84FF8B063A952C|1975-06-13     |49   |F   |SC          |JOINVILLE    |0           |Desconhecido  |Não          |Desconhecido   |Desconhecido  |\n",
      "|000033354ABAAD3F2FA8|1964-01-01     |60   |F   |RS          |PORTO ALEGRE |1           |Não           |Não          |Não            |Não           |\n",
      "|000033354ABAAD3F2FA8|1964-01-01     |60   |F   |RS          |PORTO ALEGRE |1           |Não           |Não          |Não            |Não           |\n",
      "|00003490C16D52FEB4C2|2004-03-20     |20   |F   |Desconhecido|Desconhecido |0           |Desconhecido  |Desconhecido |Desconhecido   |Desconhecido  |\n",
      "|000040FC122DB8AEEF51|1982-04-06     |42   |F   |Desconhecido|Desconhecido |0           |Desconhecido  |Desconhecido |Sim            |Desconhecido  |\n",
      "|000042FA835BDA98ACCE|1965-05-03     |59   |M   |RS          |PASSO FUNDO  |2           |Não           |Não          |Não            |Não           |\n",
      "|000042FA835BDA98ACCE|1965-05-03     |59   |M   |RS          |PASSO FUNDO  |2           |Não           |Não          |Não            |Não           |\n",
      "|000046B0542EFC2E550A|1990-06-02     |34   |F   |PR          |PONTA GROSSA |1           |Desconhecido  |Sim          |Sim            |Sim           |\n",
      "+--------------------+---------------+-----+----+------------+-------------+------------+--------------+-------------+---------------+--------------+\n",
      "only showing top 20 rows\n",
      "\n"
     ]
    }
   ],
   "source": [
    "# Mostrar o DataFrame resultante\n",
    "df_clientes_final.show(truncate=False)"
   ]
  },
  {
   "cell_type": "code",
   "execution_count": 29,
   "metadata": {},
   "outputs": [],
   "source": [
    "# Salvar o DataFrame em formato Parquet\n",
    "df_clientes_final.write.mode(\"overwrite\").parquet(\"C:/Users/Theuzao/Desktop/panvel_datalake/data/processed/clientes_parquet\")\n"
   ]
  },
  {
   "cell_type": "code",
   "execution_count": 30,
   "metadata": {},
   "outputs": [],
   "source": [
    "# Encerra a sessão Spark\n",
    "spark.stop()"
   ]
  }
 ],
 "metadata": {
  "kernelspec": {
   "display_name": "Python 3",
   "language": "python",
   "name": "python3"
  },
  "language_info": {
   "codemirror_mode": {
    "name": "ipython",
    "version": 3
   },
   "file_extension": ".py",
   "mimetype": "text/x-python",
   "name": "python",
   "nbconvert_exporter": "python",
   "pygments_lexer": "ipython3",
   "version": "3.12.6"
  }
 },
 "nbformat": 4,
 "nbformat_minor": 2
}
