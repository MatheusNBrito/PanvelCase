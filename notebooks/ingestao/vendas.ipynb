{
 "cells": [
  {
   "cell_type": "code",
   "execution_count": 1,
   "metadata": {},
   "outputs": [],
   "source": [
    "from pyspark.sql import SparkSession\n",
    "from pyspark.sql.functions import col, when, count\n",
    "from pyspark.sql import functions as F\n"
   ]
  },
  {
   "cell_type": "code",
   "execution_count": 2,
   "metadata": {},
   "outputs": [],
   "source": [
    "# Criar a sessão Spark\n",
    "spark = SparkSession.builder.appName(\"VendasETL\").getOrCreate()\n"
   ]
  },
  {
   "cell_type": "code",
   "execution_count": 3,
   "metadata": {},
   "outputs": [],
   "source": [
    "#desabilita o leitor vetorizado do Parquet no Spark, permitindo fazer a leitura dos dados decimais (18,6)\n",
    "spark.conf.set(\"spark.sql.parquet.enableVectorizedReader\", \"false\")\n"
   ]
  },
  {
   "cell_type": "code",
   "execution_count": 4,
   "metadata": {},
   "outputs": [],
   "source": [
    "df_vendas = spark.read.parquet('C:\\\\Users\\\\Theuzao\\\\Desktop\\\\panvel_datalake\\\\data\\\\raw\\\\vendas.parquet')"
   ]
  },
  {
   "cell_type": "code",
   "execution_count": 5,
   "metadata": {},
   "outputs": [
    {
     "name": "stdout",
     "output_type": "stream",
     "text": [
      "root\n",
      " |-- d_dt_vd: timestamp (nullable = true)\n",
      " |-- n_id_fil: long (nullable = true)\n",
      " |-- n_id_vd_fil: long (nullable = true)\n",
      " |-- v_cli_cod: string (nullable = true)\n",
      " |-- n_vlr_tot_vd: decimal(18,6) (nullable = true)\n",
      " |-- n_vlr_tot_desc: decimal(14,4) (nullable = true)\n",
      " |-- v_cpn_eml: string (nullable = true)\n",
      " |-- tp_pgt: string (nullable = true)\n",
      "\n"
     ]
    }
   ],
   "source": [
    "df_vendas.printSchema()"
   ]
  },
  {
   "cell_type": "code",
   "execution_count": 6,
   "metadata": {},
   "outputs": [],
   "source": [
    "# Converter todas as colunas para String após a leitura\n",
    "df_vendas = df_vendas.select([F.col(col_name).cast(\"string\").alias(col_name) for col_name in df_vendas.columns])\n"
   ]
  },
  {
   "cell_type": "code",
   "execution_count": 7,
   "metadata": {},
   "outputs": [
    {
     "name": "stdout",
     "output_type": "stream",
     "text": [
      "root\n",
      " |-- d_dt_vd: string (nullable = true)\n",
      " |-- n_id_fil: string (nullable = true)\n",
      " |-- n_id_vd_fil: string (nullable = true)\n",
      " |-- v_cli_cod: string (nullable = true)\n",
      " |-- n_vlr_tot_vd: string (nullable = true)\n",
      " |-- n_vlr_tot_desc: string (nullable = true)\n",
      " |-- v_cpn_eml: string (nullable = true)\n",
      " |-- tp_pgt: string (nullable = true)\n",
      "\n"
     ]
    }
   ],
   "source": [
    "df_vendas.printSchema()"
   ]
  },
  {
   "cell_type": "code",
   "execution_count": 8,
   "metadata": {},
   "outputs": [
    {
     "name": "stdout",
     "output_type": "stream",
     "text": [
      "+-------+--------+-----------+---------+------------+--------------+---------+-------+\n",
      "|d_dt_vd|n_id_fil|n_id_vd_fil|v_cli_cod|n_vlr_tot_vd|n_vlr_tot_desc|v_cpn_eml| tp_pgt|\n",
      "+-------+--------+-----------+---------+------------+--------------+---------+-------+\n",
      "|      0|       0|          0|  5206154|           0|             0|        0|5268260|\n",
      "+-------+--------+-----------+---------+------------+--------------+---------+-------+\n",
      "\n"
     ]
    }
   ],
   "source": [
    "# Contagem de valores nulos\n",
    "\n",
    "df_vendas.select([count(when(col(c).isNull(), c)).alias(c) for c in df_vendas.columns]).show()"
   ]
  },
  {
   "cell_type": "code",
   "execution_count": 9,
   "metadata": {},
   "outputs": [
    {
     "name": "stdout",
     "output_type": "stream",
     "text": [
      "+-------------------+--------+-------------+---------+------------+--------------+---------+-------+\n",
      "|d_dt_vd            |n_id_fil|n_id_vd_fil  |v_cli_cod|n_vlr_tot_vd|n_vlr_tot_desc|v_cpn_eml|tp_pgt |\n",
      "+-------------------+--------+-------------+---------+------------+--------------+---------+-------+\n",
      "|2023-08-05 21:00:00|2189684 |37557459731  |null     |49.990000   |0.0000        |NAO      |null   |\n",
      "|2023-08-20 21:00:00|2593584 |4090431631   |null     |37.970000   |17.9000       |NAO      |null   |\n",
      "|2023-08-14 21:00:00|2388484 |36624197731  |null     |35.020000   |0.0000        |NAO      |null   |\n",
      "|2023-08-03 21:00:00|260484  |36544360831  |null     |18.600000   |0.0000        |NAO      |null   |\n",
      "|2023-08-28 21:00:00|2349284 |34160952331  |null     |9.990000    |7.9800        |NAO      |null   |\n",
      "|2023-08-03 21:00:00|269584  |35963337531  |null     |12.990000   |0.0000        |NAO      |null   |\n",
      "|2023-08-12 21:00:00|2209984 |36340815731  |null     |37.480000   |0.0000        |NAO      |null   |\n",
      "|2023-08-21 21:00:00|2644684 |3505019331   |null     |46.980000   |21.0000       |NAO      |null   |\n",
      "|2023-08-03 21:00:00|246484  |37761175331  |null     |23.980000   |12.6000       |NAO      |null   |\n",
      "|2023-08-02 21:00:00|2228884 |35918193531  |null     |9.980000    |12.4000       |NAO      |null   |\n",
      "|2023-08-10 21:00:00|2388484 |36621954831  |null     |34.480000   |0.0000        |NAO      |null   |\n",
      "|2023-08-22 21:00:00|2447284 |34184933431  |null     |16.490000   |0.0000        |NAO      |null   |\n",
      "|2023-08-30 21:00:00|26684   |3464859110031|null     |24.980000   |6.0000        |NAO      |null   |\n",
      "|2023-08-16 21:00:00|240884  |35633368331  |null     |69.950000   |21.6000       |NAO      |null   |\n",
      "|2023-08-19 21:00:00|2615984 |3577191431   |null     |33.680000   |45.3300       |NAO      |A VISTA|\n",
      "|2023-08-05 21:00:00|240184  |37274335131  |null     |15.990000   |0.0000        |NAO      |null   |\n",
      "|2023-08-11 21:00:00|270984  |36481565131  |null     |11.970000   |21.6000       |NAO      |null   |\n",
      "|2023-08-21 21:00:00|26684   |3464856412831|null     |5.670000    |1.3800        |NAO      |null   |\n",
      "|2023-07-31 21:00:00|2590784 |37677352031  |null     |41.890000   |211.9800      |NAO      |null   |\n",
      "|2023-08-10 21:00:00|279384  |35658100731  |null     |101.300000  |13.8000       |NAO      |null   |\n",
      "+-------------------+--------+-------------+---------+------------+--------------+---------+-------+\n",
      "only showing top 20 rows\n",
      "\n"
     ]
    }
   ],
   "source": [
    "# Filtrar vendas onde v_cli_cod é nulo\n",
    "vendas_sem_cliente = df_vendas.filter(F.col(\"v_cli_cod\").isNull())\n",
    "\n",
    "# Mostrar as vendas sem cliente\n",
    "vendas_sem_cliente.show(truncate=False)\n"
   ]
  },
  {
   "cell_type": "code",
   "execution_count": 10,
   "metadata": {},
   "outputs": [],
   "source": [
    "# Substituir todos os valores nulos por \"Desconhecido\" em todas as colunas do DataFrame final\n",
    "df_vendas_final = df_vendas.fillna(\"Desconhecido\")\n",
    "\n",
    "#lembrar que os dados nullos do v_cli_cod tbm foi alterado para desconhecido, é possivel fazer uma investigação maior"
   ]
  },
  {
   "cell_type": "code",
   "execution_count": 11,
   "metadata": {},
   "outputs": [
    {
     "name": "stdout",
     "output_type": "stream",
     "text": [
      "+-------------------+--------+-----------+--------------------+------------+--------------+---------+------------+\n",
      "|            d_dt_vd|n_id_fil|n_id_vd_fil|           v_cli_cod|n_vlr_tot_vd|n_vlr_tot_desc|v_cpn_eml|      tp_pgt|\n",
      "+-------------------+--------+-----------+--------------------+------------+--------------+---------+------------+\n",
      "|2023-10-12 21:00:00| 2356284|34366442231|016E6FCC4F98832719BC|   55.960000|       13.9900|      NAO|     A VISTA|\n",
      "|2023-10-12 21:00:00| 2221184|35550863931|035D148EADC74B6C6D2F|   31.480000|       25.2100|      NAO|Desconhecido|\n",
      "|2023-10-27 21:00:00| 2188984|37392732531|030C1011214A3317E850|    6.490000|       13.1400|      NAO|     A VISTA|\n",
      "|2023-10-08 21:00:00| 2608284| 3672652731|04710AFAF1FD9C48EBC3|   52.990000|       40.2700|      NAO|Desconhecido|\n",
      "|2023-10-09 21:00:00|  238084|37059405031|028DBA5BBB05DDF47E4C|   18.540000|        8.3800|      NAO|     A VISTA|\n",
      "|2023-10-23 21:00:00| 2687384|  403806931|012F0A4B6592C311F2ED|   31.900000|        5.0900|      SIM|Desconhecido|\n",
      "|2023-10-17 21:00:00| 2617384| 4392793031|0316E487B4F1B6831BA3|  655.260000|      259.9500|      NAO|     A VISTA|\n",
      "|2023-10-05 21:00:00| 2352784| 3967276731|052A34441AD2AE1DFD94|   36.980000|        0.0000|      NAO|Desconhecido|\n",
      "|2023-10-29 21:00:00| 2642584| 3422446731|001EC0D3A64CF4F6C941|   93.470000|       45.6300|      NAO|     A VISTA|\n",
      "|2023-10-25 21:00:00| 2620184| 3808200231|03755F35E240B8451322|   70.920000|       18.9100|      NAO|Desconhecido|\n",
      "|2023-10-19 21:00:00| 2198784|35494168831|0516882260A1031D8719|   27.980000|        0.0000|      SIM|Desconhecido|\n",
      "|2023-10-11 21:00:00| 2186184|36834033731|028D5FE319C8C62D4BFC|   17.980000|        1.5600|      NAO|     A VISTA|\n",
      "|2023-10-21 21:00:00| 2631384| 3541135631|03A4F193268E48C0D124|   47.020000|        5.1300|      SIM|     A VISTA|\n",
      "|2023-10-29 21:00:00| 2367484| 4267716431|05191F65ECBA674435B7|    7.980000|       36.6800|      NAO|Desconhecido|\n",
      "|2023-10-08 21:00:00|  259084|35445273831|009ED5A72E6053182284|  147.930000|       46.0000|      NAO|Desconhecido|\n",
      "|2023-10-22 21:00:00| 2198784|35494845331|0477E33A9B918C7769EF|   87.850000|        0.5000|      NAO|     A VISTA|\n",
      "|2023-10-30 21:00:00|  275884|36185562831|024DCAF27751A0A07A08|   44.690000|        2.5100|      NAO|     A VISTA|\n",
      "|2023-10-18 21:00:00| 2188284|36436975531|04D97DB0EC3122A68972|   26.390000|       15.2900|      NAO|     A VISTA|\n",
      "|2023-10-19 21:00:00| 2440984| 4398824331|011016FEF0EE6346E786|   83.910000|       25.7800|      SIM|     A VISTA|\n",
      "|2023-10-22 21:00:00| 2648884| 3497829731|0194D2BC60AF2468C836|   40.450000|        9.4500|      NAO|     A PRAZO|\n",
      "+-------------------+--------+-----------+--------------------+------------+--------------+---------+------------+\n",
      "only showing top 20 rows\n",
      "\n"
     ]
    }
   ],
   "source": [
    "df_vendas_final.show()"
   ]
  },
  {
   "cell_type": "code",
   "execution_count": 13,
   "metadata": {},
   "outputs": [],
   "source": [
    "# Salvar o DataFrame em formato CSV\n",
    "df_vendas_final.write.mode(\"overwrite\").option(\"header\", \"true\").csv(\"C:\\\\Users\\\\Theuzao\\\\Desktop\\\\panvel_datalake\\\\data\\\\transformed\\\\vendas_transformed\")"
   ]
  },
  {
   "cell_type": "code",
   "execution_count": 14,
   "metadata": {},
   "outputs": [],
   "source": [
    "# Encerra a sessão Spark\n",
    "spark.stop()"
   ]
  }
 ],
 "metadata": {
  "kernelspec": {
   "display_name": "Python 3",
   "language": "python",
   "name": "python3"
  },
  "language_info": {
   "codemirror_mode": {
    "name": "ipython",
    "version": 3
   },
   "file_extension": ".py",
   "mimetype": "text/x-python",
   "name": "python",
   "nbconvert_exporter": "python",
   "pygments_lexer": "ipython3",
   "version": "3.12.6"
  }
 },
 "nbformat": 4,
 "nbformat_minor": 2
}
