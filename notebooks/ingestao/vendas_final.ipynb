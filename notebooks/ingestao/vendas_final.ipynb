{
 "cells": [
  {
   "cell_type": "code",
   "execution_count": 1,
   "metadata": {},
   "outputs": [],
   "source": [
    "from pyspark.sql import SparkSession\n",
    "from pyspark.sql.functions import when\n"
   ]
  },
  {
   "cell_type": "code",
   "execution_count": 2,
   "metadata": {},
   "outputs": [],
   "source": [
    "# Criar a sessão Spark (criar apenas uma vez)\n",
    "spark = SparkSession.builder.appName(\"VendasFinalETL\").getOrCreate()"
   ]
  },
  {
   "cell_type": "code",
   "execution_count": 3,
   "metadata": {},
   "outputs": [],
   "source": [
    "# ler o arquivo transformado de vendas\n",
    "# Especifica o caminho do arquivo\n",
    "caminho_vendas_tratadas = \"C:\\\\Users\\\\Theuzao\\\\Desktop\\\\panvel_datalake\\\\data\\\\transformed\\\\vendas_transformed\"\n",
    "vendas = spark.read.csv(caminho_vendas_tratadas, header=True, inferSchema=True)\n"
   ]
  },
  {
   "cell_type": "code",
   "execution_count": 4,
   "metadata": {},
   "outputs": [],
   "source": [
    "# ler o arquivo transformado de itens vendas\n",
    "# Especifica o caminho do arquivo\n",
    "caminho_itens_vendas = \"C:\\\\Users\\\\Theuzao\\\\Desktop\\\\panvel_datalake\\\\data\\\\transformed\\\\itens_vendas\"\n",
    "itens_vendas = spark.read.csv(caminho_itens_vendas, header=True, inferSchema=True)\n"
   ]
  },
  {
   "cell_type": "code",
   "execution_count": 5,
   "metadata": {},
   "outputs": [],
   "source": [
    "# ler o arquivo transformado de clientes_opt\n",
    "# Especifica o caminho do arquivo\n",
    "caminho_clientes_opt = \"C:\\\\Users\\\\Theuzao\\\\Desktop\\\\panvel_datalake\\\\data\\\\transformed\\\\clientes_opt\"\n",
    "clientes_opt = spark.read.csv(caminho_clientes_opt, header=True, inferSchema=True)\n"
   ]
  },
  {
   "cell_type": "code",
   "execution_count": 6,
   "metadata": {},
   "outputs": [],
   "source": [
    "# ler o arquivo transformado de itens clientes\n",
    "# Especifica o caminho do arquivo\n",
    "caminho_clientes = \"C:\\\\Users\\\\Theuzao\\\\Desktop\\\\panvel_datalake\\\\data\\\\transformed\\\\clientes\"\n",
    "clientes = spark.read.csv(caminho_clientes, header=True, inferSchema=True)"
   ]
  },
  {
   "cell_type": "code",
   "execution_count": 7,
   "metadata": {},
   "outputs": [],
   "source": [
    "# join entre os dataframes vendas e itens_vendas utilizando n_id_vd_fil e n_id_fil como parametros\n",
    "df_vendas_itens = vendas.join(\n",
    "    itens_vendas,\n",
    "    (vendas[\"n_id_vd_fil\"] == itens_vendas[\"n_id_vd_fil\"]) & \n",
    "    (vendas[\"n_id_fil\"] == itens_vendas[\"n_id_fil\"]),\n",
    "    \"inner\"\n",
    ")\n"
   ]
  },
  {
   "cell_type": "code",
   "execution_count": 8,
   "metadata": {},
   "outputs": [],
   "source": [
    "# join entre os dataframes df_vendas_itens e clientes utilizando o v_cli_cod com v_id_cli\n",
    "df_vendas_clientes = df_vendas_itens.join(\n",
    "    clientes,\n",
    "    df_vendas_itens[\"v_cli_cod\"] == clientes[\"v_id_cli\"],\n",
    "    \"inner\"\n",
    ")\n"
   ]
  },
  {
   "cell_type": "code",
   "execution_count": 9,
   "metadata": {},
   "outputs": [],
   "source": [
    "#join entre df_vendas_clientes e clientes_opt utilizando o v_id_cli\n",
    "df_vendas_final = df_vendas_clientes.join(\n",
    "    clientes_opt,\n",
    "    df_vendas_clientes[\"v_id_cli\"] == clientes_opt[\"v_id_cli\"],\n",
    "    \"left\"\n",
    ")\n"
   ]
  },
  {
   "cell_type": "code",
   "execution_count": 10,
   "metadata": {},
   "outputs": [],
   "source": [
    "#define atraves do when o valor da coluna com base na preferencia do cliente\n",
    "df_vendas_final = df_vendas_final.withColumn(\n",
    "    \"canal_venda\",\n",
    "    when(df_vendas_final[\"b_email\"] == \"Sim\", \"Site\")\n",
    "    .when(df_vendas_final[\"b_push\"] == \"Sim\", \"App\")\n",
    "    .otherwise(\"Loja\")\n",
    ")\n"
   ]
  },
  {
   "cell_type": "code",
   "execution_count": 11,
   "metadata": {},
   "outputs": [],
   "source": [
    "#renomeia as colunas\n",
    "df_vendas_final = df_vendas_final.select(\n",
    "    vendas[\"n_id_fil\"].alias(\"codigo_filial\"),\n",
    "    vendas[\"n_id_vd_fil\"].alias(\"codigo_cupom_venda\"),\n",
    "    vendas[\"d_dt_vd\"].alias(\"data_emissao\"),\n",
    "    itens_vendas[\"n_id_it\"].alias(\"codigo_item\"),\n",
    "    itens_vendas[\"n_vlr_vd\"].alias(\"valor_unitario\"),\n",
    "    itens_vendas[\"n_qtd\"].alias(\"quantidade\"),\n",
    "    vendas[\"v_cli_cod\"].alias(\"codigo_cliente\"),\n",
    "    itens_vendas[\"v_it_vd_conv\"].alias(\"tipo_desconto\"),\n",
    "    df_vendas_final[\"canal_venda\"]\n",
    ")\n"
   ]
  },
  {
   "cell_type": "code",
   "execution_count": 12,
   "metadata": {},
   "outputs": [
    {
     "name": "stdout",
     "output_type": "stream",
     "text": [
      "+-------------+------------------+-------------------+-----------+--------------+----------+--------------------+-------------+-----------+\n",
      "|codigo_filial|codigo_cupom_venda|       data_emissao|codigo_item|valor_unitario|quantidade|      codigo_cliente|tipo_desconto|canal_venda|\n",
      "+-------------+------------------+-------------------+-----------+--------------+----------+--------------------+-------------+-----------+\n",
      "|      2701384|            401731|2023-07-06 21:00:00|  454248626|         15.99|       1.0|031FF300BFC27BFCD023|          NAO|       Site|\n",
      "|      2701384|            401731|2023-07-06 21:00:00|  504129626|         23.99|       1.0|031FF300BFC27BFCD023|          NAO|       Site|\n",
      "|      2701384|            401731|2023-07-06 21:00:00|  403349206|         17.59|       1.0|031FF300BFC27BFCD023|          NAO|       Site|\n",
      "|      2701384|            401731|2023-07-06 21:00:00|  451479626|         15.59|       1.0|031FF300BFC27BFCD023|          NAO|       Site|\n",
      "|      2701384|            401731|2023-07-06 21:00:00|  404688466|         23.99|       1.0|031FF300BFC27BFCD023|          NAO|       Site|\n",
      "|      2701384|            401731|2023-07-06 21:00:00|  497442426|         10.39|       1.0|031FF300BFC27BFCD023|          NAO|       Site|\n",
      "|      2701384|            401731|2023-07-06 21:00:00|  403361946|         25.59|       1.0|031FF300BFC27BFCD023|          NAO|       Site|\n",
      "|      2701384|            401731|2023-07-06 21:00:00|  403547456|         36.79|       1.0|031FF300BFC27BFCD023|          NAO|       Site|\n",
      "|      2701384|            401731|2023-07-06 21:00:00|  403643396|          5.59|       1.0|031FF300BFC27BFCD023|          NAO|       Site|\n",
      "|      2701384|            401731|2023-07-06 21:00:00|  454244726|         15.99|       1.0|031FF300BFC27BFCD023|          NAO|       Site|\n",
      "|      2701384|            401731|2023-07-06 21:00:00|  405304796|         13.59|       1.0|031FF300BFC27BFCD023|          NAO|       Site|\n",
      "|      2701384|            401731|2023-07-06 21:00:00|  403643266|          5.59|       1.0|031FF300BFC27BFCD023|          NAO|       Site|\n",
      "|      2706284|           3416831|2023-09-14 21:00:00|  403325156|         99.99|       1.0|01197D1C89A53FED31D8|          NAO|       Loja|\n",
      "|      2706284|           3416831|2023-09-14 21:00:00|  500867926|         49.99|       1.0|01197D1C89A53FED31D8|          NAO|       Loja|\n",
      "|      2706284|           3416831|2023-09-14 21:00:00|  405000206|         19.99|       1.0|01197D1C89A53FED31D8|          NAO|       Loja|\n",
      "|      2710484|           3443231|2023-08-17 21:00:00|  405136576|         10.39|       1.0|00CAC30E40B4E72F284E|          NAO|       Loja|\n",
      "|      2710484|           3443231|2023-08-17 21:00:00|  405384226|         11.99|       1.0|00CAC30E40B4E72F284E|          NAO|       Loja|\n",
      "|      2722384|           3449831|2023-09-27 21:00:00|  403161226|         12.99|       1.0|028BAE0F3A3EA9905188|          NAO|       Site|\n",
      "|      2683884|           3452031|2023-09-26 21:00:00|  410351526|          5.99|       1.0|0129238E59D7CF4B58AB|          NAO|       Loja|\n",
      "|      2683884|           3452031|2023-09-26 21:00:00|   51853776|         12.99|       1.0|0129238E59D7CF4B58AB|          NAO|       Loja|\n",
      "+-------------+------------------+-------------------+-----------+--------------+----------+--------------------+-------------+-----------+\n",
      "only showing top 20 rows\n",
      "\n"
     ]
    }
   ],
   "source": [
    "#mostra os dados de vendas_final\n",
    "df_vendas_final.show()\n"
   ]
  },
  {
   "cell_type": "code",
   "execution_count": 13,
   "metadata": {},
   "outputs": [],
   "source": [
    "# Salvar o DataFrame em formato Parquet\n",
    "df_vendas_final.write.mode(\"overwrite\").parquet(\"C:/Users/Theuzao/Desktop/panvel_datalake/data/processed/vendas_parquet\")\n"
   ]
  },
  {
   "cell_type": "code",
   "execution_count": 14,
   "metadata": {},
   "outputs": [],
   "source": [
    "#Encerra sessão Spark\n",
    "spark.stop()"
   ]
  }
 ],
 "metadata": {
  "kernelspec": {
   "display_name": "Python 3",
   "language": "python",
   "name": "python3"
  },
  "language_info": {
   "codemirror_mode": {
    "name": "ipython",
    "version": 3
   },
   "file_extension": ".py",
   "mimetype": "text/x-python",
   "name": "python",
   "nbconvert_exporter": "python",
   "pygments_lexer": "ipython3",
   "version": "3.12.6"
  }
 },
 "nbformat": 4,
 "nbformat_minor": 2
}
