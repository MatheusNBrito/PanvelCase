{
 "cells": [
  {
   "cell_type": "code",
   "execution_count": 1,
   "metadata": {},
   "outputs": [],
   "source": [
    "from pyspark.sql import SparkSession\n",
    "from pyspark.sql.functions import col, when, count, floor, datediff, current_date\n",
    "from pyspark.sql import functions as F\n"
   ]
  },
  {
   "cell_type": "code",
   "execution_count": 2,
   "metadata": {},
   "outputs": [],
   "source": [
    "# Criar a sessão Spark (criar apenas uma vez)\n",
    "spark = SparkSession.builder.appName(\"ClientesETL\").getOrCreate()\n",
    "\n",
    "# Ler o arquivo Parquet com o spark\n",
    "df_clientes = spark.read.option(\"datetimeRebaseMode\", \"LEGACY\").parquet('C:\\\\Users\\\\Theuzao\\\\Desktop\\\\panvel_datalake\\\\data\\\\raw\\\\clientes.parquet')"
   ]
  },
  {
   "cell_type": "code",
   "execution_count": 3,
   "metadata": {},
   "outputs": [
    {
     "name": "stdout",
     "output_type": "stream",
     "text": [
      "root\n",
      " |-- v_id_cli: string (nullable = true)\n",
      " |-- d_dt_nasc: date (nullable = true)\n",
      " |-- v_sx_cli: string (nullable = true)\n",
      " |-- n_est_cvl: string (nullable = true)\n",
      "\n"
     ]
    }
   ],
   "source": [
    "# Mostrar o schema do dataframe\n",
    "df_clientes.printSchema()"
   ]
  },
  {
   "cell_type": "markdown",
   "metadata": {},
   "source": [
    "Tratamento dos dados"
   ]
  },
  {
   "cell_type": "code",
   "execution_count": 4,
   "metadata": {},
   "outputs": [
    {
     "name": "stdout",
     "output_type": "stream",
     "text": [
      "+--------+---------+--------+---------+\n",
      "|v_id_cli|d_dt_nasc|v_sx_cli|n_est_cvl|\n",
      "+--------+---------+--------+---------+\n",
      "|       0|     4957|   16054|    65269|\n",
      "+--------+---------+--------+---------+\n",
      "\n"
     ]
    }
   ],
   "source": [
    "# Contar os valores faltantes em cada coluna\n",
    "df_clientes.select([count(when(col(c).isNull(), c)).alias(c) for c in df_clientes.columns]).show()"
   ]
  },
  {
   "cell_type": "code",
   "execution_count": 5,
   "metadata": {},
   "outputs": [],
   "source": [
    "# Preencher os valores faltantes em `v_sx_cli` com \"Não informado representado pela letra N\"\n",
    "df_clientes = df_clientes.fillna({\"v_sx_cli\": \"N\"})"
   ]
  },
  {
   "cell_type": "code",
   "execution_count": 6,
   "metadata": {},
   "outputs": [],
   "source": [
    "# Preencher os valores faltantes em `n_est_cvl` com \"Desconhecido representado pela letra 0\"\n",
    "df_clientes = df_clientes.fillna({\"n_est_cvl\": \"0\"})\n"
   ]
  },
  {
   "cell_type": "code",
   "execution_count": 7,
   "metadata": {},
   "outputs": [],
   "source": [
    "# Preencher os valores faltantes em `d_dt_nasc` com \"Desconhecido\"\n",
    "df_clientes = df_clientes.fillna({\"d_dt_nasc\": \"Desconhecido\"})"
   ]
  },
  {
   "cell_type": "code",
   "execution_count": 8,
   "metadata": {},
   "outputs": [],
   "source": [
    "# Criar a coluna `idade` a partir da coluna `d_dt_nasc`\n",
    "df_clientes = df_clientes.withColumn(\"idade\", \n",
    "    floor(datediff(current_date(), col(\"d_dt_nasc\")) / 365))"
   ]
  },
  {
   "cell_type": "code",
   "execution_count": 9,
   "metadata": {},
   "outputs": [
    {
     "name": "stdout",
     "output_type": "stream",
     "text": [
      "+--------+---------+--------+---------+-----+\n",
      "|v_id_cli|d_dt_nasc|v_sx_cli|n_est_cvl|idade|\n",
      "+--------+---------+--------+---------+-----+\n",
      "|       0|     4957|       0|        0| 4957|\n",
      "+--------+---------+--------+---------+-----+\n",
      "\n"
     ]
    }
   ],
   "source": [
    "# Contar os valores faltantes em cada coluna\n",
    "df_clientes.select([count(when(col(c).isNull(), c)).alias(c) for c in df_clientes.columns]).show()"
   ]
  },
  {
   "cell_type": "code",
   "execution_count": 10,
   "metadata": {},
   "outputs": [
    {
     "name": "stdout",
     "output_type": "stream",
     "text": [
      "+--------------------+----------+--------+---------+-----+\n",
      "|            v_id_cli| d_dt_nasc|v_sx_cli|n_est_cvl|idade|\n",
      "+--------------------+----------+--------+---------+-----+\n",
      "|0000009DB36F622B7639|2003-11-14|       F|        0|   20|\n",
      "|000000F51C15031D708E|2008-03-23|       F|        0|   16|\n",
      "|00000F54BE2BBF0E7B13|1986-02-24|       F|        0|   38|\n",
      "|000013E1FB44D9A9E50F|1984-12-13|       M|        0|   39|\n",
      "|00001522AD94645C7688|1992-11-10|       F|        2|   31|\n",
      "+--------------------+----------+--------+---------+-----+\n",
      "only showing top 5 rows\n",
      "\n"
     ]
    }
   ],
   "source": [
    "df_clientes.show(5)"
   ]
  },
  {
   "cell_type": "code",
   "execution_count": 11,
   "metadata": {},
   "outputs": [],
   "source": [
    "# Data padrão a ser usado em caso de ausência\n",
    "default_date = '2001-01-01'  # No formato YYYY-MM-DD\n"
   ]
  },
  {
   "cell_type": "code",
   "execution_count": 12,
   "metadata": {},
   "outputs": [],
   "source": [
    "# Substituir datas faltantes pela data padrão\n",
    "df_clientes = df_clientes.withColumn(\n",
    "    \"d_dt_nasc\",\n",
    "    F.when(F.col(\"d_dt_nasc\").isNull(), default_date).otherwise(F.col(\"d_dt_nasc\"))\n",
    ")"
   ]
  },
  {
   "cell_type": "code",
   "execution_count": 13,
   "metadata": {},
   "outputs": [],
   "source": [
    "# Preencher os valores faltantes em `idade` com \"Desconhecido representado por 0\"\n",
    "df_clientes = df_clientes.fillna({\"idade\": \"0\"})"
   ]
  },
  {
   "cell_type": "code",
   "execution_count": 14,
   "metadata": {},
   "outputs": [
    {
     "name": "stdout",
     "output_type": "stream",
     "text": [
      "+--------+---------+--------+---------+-----+\n",
      "|v_id_cli|d_dt_nasc|v_sx_cli|n_est_cvl|idade|\n",
      "+--------+---------+--------+---------+-----+\n",
      "|       0|        0|       0|        0|    0|\n",
      "+--------+---------+--------+---------+-----+\n",
      "\n"
     ]
    }
   ],
   "source": [
    "# Contar os valores faltantes em cada coluna\n",
    "df_clientes.select([count(when(col(c).isNull(), c)).alias(c) for c in df_clientes.columns]).show()"
   ]
  },
  {
   "cell_type": "code",
   "execution_count": 15,
   "metadata": {},
   "outputs": [],
   "source": [
    "# Converter todas as colunas para String após a leitura\n",
    "df_clientes = df_clientes.select([F.col(col_name).cast(\"string\").alias(col_name) for col_name in df_clientes.columns])\n"
   ]
  },
  {
   "cell_type": "code",
   "execution_count": 16,
   "metadata": {},
   "outputs": [],
   "source": [
    "# Salvar o DataFrame em formato CSV\n",
    "df_clientes.write.mode(\"overwrite\").option(\"header\", \"true\").csv(\"C:\\\\Users\\\\Theuzao\\\\Desktop\\\\panvel_datalake\\\\data\\\\transformed\\\\clientes\")"
   ]
  },
  {
   "cell_type": "code",
   "execution_count": 17,
   "metadata": {},
   "outputs": [],
   "source": [
    "# Encerra a sessão Spark\n",
    "spark.stop()"
   ]
  }
 ],
 "metadata": {
  "kernelspec": {
   "display_name": "Python 3",
   "language": "python",
   "name": "python3"
  },
  "language_info": {
   "codemirror_mode": {
    "name": "ipython",
    "version": 3
   },
   "file_extension": ".py",
   "mimetype": "text/x-python",
   "name": "python",
   "nbconvert_exporter": "python",
   "pygments_lexer": "ipython3",
   "version": "3.12.6"
  }
 },
 "nbformat": 4,
 "nbformat_minor": 2
}
