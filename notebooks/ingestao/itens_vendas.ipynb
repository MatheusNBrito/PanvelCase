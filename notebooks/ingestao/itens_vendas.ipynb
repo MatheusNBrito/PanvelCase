{
 "cells": [
  {
   "cell_type": "code",
   "execution_count": 8,
   "metadata": {},
   "outputs": [],
   "source": [
    "from pyspark.sql import SparkSession\n",
    "from pyspark.sql.types import *\n",
    "from pyspark.sql.functions import col, when, count\n",
    "from pyspark.sql import functions as F"
   ]
  },
  {
   "cell_type": "code",
   "execution_count": 2,
   "metadata": {},
   "outputs": [],
   "source": [
    "# Criar a sessão Spark\n",
    "spark = SparkSession.builder.appName(\"ItensVendasETL\").getOrCreate()"
   ]
  },
  {
   "cell_type": "code",
   "execution_count": 3,
   "metadata": {},
   "outputs": [],
   "source": [
    "# Lê o arquivo Parquet\n",
    "df_itens_vendas = spark.read.parquet('C:\\\\Users\\\\Theuzao\\\\Desktop\\\\panvel_datalake\\\\data\\\\raw\\\\itens_vendas.parquet')"
   ]
  },
  {
   "cell_type": "code",
   "execution_count": 4,
   "metadata": {},
   "outputs": [
    {
     "name": "stdout",
     "output_type": "stream",
     "text": [
      "root\n",
      " |-- n_id_fil: long (nullable = true)\n",
      " |-- n_id_vd_fil: long (nullable = true)\n",
      " |-- n_id_it: long (nullable = true)\n",
      " |-- v_rc_elt: string (nullable = true)\n",
      " |-- v_it_vd_conv: string (nullable = true)\n",
      " |-- n_vlr_pis: decimal(38,2) (nullable = true)\n",
      " |-- n_vlr_vd: decimal(38,2) (nullable = true)\n",
      " |-- n_vlr_desc: decimal(38,2) (nullable = true)\n",
      " |-- n_qtd: decimal(38,4) (nullable = true)\n",
      "\n"
     ]
    }
   ],
   "source": [
    "# Mostra o schema\n",
    "df_itens_vendas.printSchema()"
   ]
  },
  {
   "cell_type": "code",
   "execution_count": 5,
   "metadata": {},
   "outputs": [
    {
     "name": "stdout",
     "output_type": "stream",
     "text": [
      "+--------+-------------+---------+--------+------------+---------+--------+----------+------+\n",
      "|n_id_fil|  n_id_vd_fil|  n_id_it|v_rc_elt|v_it_vd_conv|n_vlr_pis|n_vlr_vd|n_vlr_desc| n_qtd|\n",
      "+--------+-------------+---------+--------+------------+---------+--------+----------+------+\n",
      "| 2326184|   4104333431|433914026|     NAO|         NAO|     0.00|   38.49|      8.50|1.0000|\n",
      "|  238084|  37050030831|405284776|     NAO|         NAO|     0.14|    8.49|      0.00|1.0000|\n",
      "| 2439584|   4272478331|403805896|     NAO|         NAO|     0.00|   17.99|      0.00|1.0000|\n",
      "| 2618784|   3678370531|502317426|     NAO|         NAO|     0.00|    3.10|      0.00|1.0000|\n",
      "|  253484|  37104903231|403469456|     NAO|         NAO|     0.00|   17.99|      8.00|1.0000|\n",
      "| 2433984|  34687630131|405275806|     NAO|         NAO|     0.21|   12.49|      0.00|1.0000|\n",
      "|  220584|3467614187631|403614016|     NAO|         NAO|     0.00|    4.49|      0.00|1.0000|\n",
      "| 2212084|  36067773731|411572226|     NAO|         NAO|     0.00|   34.99|      0.00|1.0000|\n",
      "| 2180584|  38148468831| 51897066|     NAO|         NAO|     0.00|    5.99|      0.00|1.0000|\n",
      "|  269584|  35988940031| 51972986|     NAO|         NAO|     0.00|   14.99|      0.00|1.0000|\n",
      "| 2326184|   4103817531| 51755756|     NAO|         NAO|     0.07|    3.99|      0.00|1.0000|\n",
      "| 2361184|   3951056131|443145326|     NAO|         NAO|     0.00|   17.49|      0.00|1.0000|\n",
      "| 2197384|  43170461631| 49001836|     NAO|         NAO|     0.00|   15.28|      0.00|4.0000|\n",
      "|  224784|  38478864831|403054106|     NAO|         NAO|     0.08|    4.99|      0.00|1.0000|\n",
      "| 2685984|   3418602231|500354426|     NAO|         NAO|     0.00|   25.98|     10.60|2.0000|\n",
      "|  277284|  37151822631|458506126|     NAO|         NAO|     0.00|   22.77|      1.20|1.0000|\n",
      "|  217784|3466778242631|406484026|     NAO|         NAO|     0.41|   24.99|      0.00|1.0000|\n",
      "| 2338084|   4068126931|433325256|     NAO|         NAO|     0.00|   38.42|      0.00|2.0000|\n",
      "|  252084|  36560120531|405579876|     NAO|         NAO|     0.13|    7.99|      0.00|1.0000|\n",
      "| 2394784|  34817716131|403329706|     NAO|         NAO|     0.00|    8.94|      9.00|6.0000|\n",
      "+--------+-------------+---------+--------+------------+---------+--------+----------+------+\n",
      "only showing top 20 rows\n",
      "\n"
     ]
    }
   ],
   "source": [
    "# Imprime o Dataframe\n",
    "df_itens_vendas.show() "
   ]
  },
  {
   "cell_type": "code",
   "execution_count": 9,
   "metadata": {},
   "outputs": [],
   "source": [
    "# Converter todas as colunas para String após a leitura\n",
    "df_itens_vendas = df_itens_vendas.select([F.col(col_name).cast(\"string\").alias(col_name) for col_name in df_itens_vendas.columns])\n"
   ]
  },
  {
   "cell_type": "code",
   "execution_count": 24,
   "metadata": {},
   "outputs": [
    {
     "name": "stdout",
     "output_type": "stream",
     "text": [
      "+--------+-----------+-------+--------+------------+---------+--------+----------+-----+\n",
      "|n_id_fil|n_id_vd_fil|n_id_it|v_rc_elt|v_it_vd_conv|n_vlr_pis|n_vlr_vd|n_vlr_desc|n_qtd|\n",
      "+--------+-----------+-------+--------+------------+---------+--------+----------+-----+\n",
      "|       0|          0|      0|       0|           0|        0|       0|         0|    0|\n",
      "+--------+-----------+-------+--------+------------+---------+--------+----------+-----+\n",
      "\n"
     ]
    }
   ],
   "source": [
    "# Contagem de valores nulos\n",
    "df_itens_vendas.select([count(when(col(c).isNull(), c)).alias(c) for c in df_itens_vendas.columns]).show()"
   ]
  },
  {
   "cell_type": "code",
   "execution_count": 10,
   "metadata": {},
   "outputs": [],
   "source": [
    "# Salvar o DataFrame em formato CSV\n",
    "df_itens_vendas.write.mode(\"overwrite\").option(\"header\", \"true\").csv(\"C:\\\\Users\\\\Theuzao\\\\Desktop\\\\panvel_datalake\\\\data\\\\transformed\\\\itens_vendas\")"
   ]
  },
  {
   "cell_type": "code",
   "execution_count": 11,
   "metadata": {},
   "outputs": [],
   "source": [
    "# Encerra a sessão Spark\n",
    "spark.stop()"
   ]
  }
 ],
 "metadata": {
  "kernelspec": {
   "display_name": "Python 3",
   "language": "python",
   "name": "python3"
  },
  "language_info": {
   "codemirror_mode": {
    "name": "ipython",
    "version": 3
   },
   "file_extension": ".py",
   "mimetype": "text/x-python",
   "name": "python",
   "nbconvert_exporter": "python",
   "pygments_lexer": "ipython3",
   "version": "3.12.6"
  }
 },
 "nbformat": 4,
 "nbformat_minor": 2
}
