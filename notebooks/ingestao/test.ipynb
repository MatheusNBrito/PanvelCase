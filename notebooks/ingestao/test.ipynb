{
 "cells": [
  {
   "cell_type": "code",
   "execution_count": 1,
   "metadata": {},
   "outputs": [],
   "source": [
    "from pyspark.sql import SparkSession"
   ]
  },
  {
   "cell_type": "code",
   "execution_count": 2,
   "metadata": {},
   "outputs": [],
   "source": [
    "# Criar a sessão Spark \n",
    "spark = SparkSession.builder.appName(\"ClientesETL\").getOrCreate()\n"
   ]
  },
  {
   "cell_type": "code",
   "execution_count": 4,
   "metadata": {},
   "outputs": [
    {
     "name": "stdout",
     "output_type": "stream",
     "text": [
      "root\n",
      " |-- codigo_filial: integer (nullable = true)\n",
      " |-- codigo_cupom_venda: long (nullable = true)\n",
      " |-- data_emissao: timestamp (nullable = true)\n",
      " |-- codigo_item: integer (nullable = true)\n",
      " |-- valor_unitario: double (nullable = true)\n",
      " |-- quantidade: double (nullable = true)\n",
      " |-- codigo_cliente: string (nullable = true)\n",
      " |-- tipo_desconto: string (nullable = true)\n",
      " |-- canal_venda: string (nullable = true)\n",
      "\n"
     ]
    }
   ],
   "source": [
    "caminho_vendas = \"C:\\\\Users\\\\Theuzao\\\\Desktop\\\\panvel_datalake\\\\data\\\\processed\\\\vendas_parquet\"\n",
    "\n",
    "vendas = spark.read.parquet(caminho_vendas, inferSchema=True)\n",
    "\n",
    "vendas.printSchema()"
   ]
  },
  {
   "cell_type": "code",
   "execution_count": 5,
   "metadata": {},
   "outputs": [
    {
     "name": "stdout",
     "output_type": "stream",
     "text": [
      "root\n",
      " |-- codigo_cliente: string (nullable = true)\n",
      " |-- data_nascimento: string (nullable = true)\n",
      " |-- idade: string (nullable = true)\n",
      " |-- sexo: string (nullable = true)\n",
      " |-- uf: string (nullable = true)\n",
      " |-- cidade: string (nullable = true)\n",
      " |-- estado_civil: string (nullable = true)\n",
      " |-- flag_lgpd_call: string (nullable = true)\n",
      " |-- flag_lgpd_sms: string (nullable = true)\n",
      " |-- flag_lgpd_email: string (nullable = true)\n",
      " |-- flag_lgpd_push: string (nullable = true)\n",
      "\n"
     ]
    }
   ],
   "source": [
    "caminho_clientes = \"C:\\\\Users\\\\Theuzao\\\\Desktop\\\\panvel_datalake\\\\data\\\\processed\\\\clientes_parquet\"\n",
    "\n",
    "clientes = spark.read.parquet(caminho_clientes, inferSchema=True)\n",
    "\n",
    "clientes.printSchema()"
   ]
  },
  {
   "cell_type": "code",
   "execution_count": 6,
   "metadata": {},
   "outputs": [
    {
     "name": "stdout",
     "output_type": "stream",
     "text": [
      "+-------------+------------------+-------------------+-----------+--------------+----------+--------------------+-------------+-----------+\n",
      "|codigo_filial|codigo_cupom_venda|       data_emissao|codigo_item|valor_unitario|quantidade|      codigo_cliente|tipo_desconto|canal_venda|\n",
      "+-------------+------------------+-------------------+-----------+--------------+----------+--------------------+-------------+-----------+\n",
      "|      2717484|            379731|2023-11-09 21:00:00|  481934726|          19.9|       1.0|0331D1DE1999E7DD043F|          NAO|       Site|\n",
      "|      2725184|            383031|2023-12-19 21:00:00|  481696826|         61.92|       1.0|044D8D4B8B1B2146B2C6|          NAO|       Site|\n",
      "|      2713984|            409431|2023-09-10 21:00:00|  518651926|         13.69|       1.0|013E2F70F997F009EE13|          NAO|       Site|\n",
      "|      2713984|            409431|2023-09-10 21:00:00|  479820926|         57.99|       1.0|013E2F70F997F009EE13|          NAO|       Site|\n",
      "|      2713984|            409431|2023-09-10 21:00:00|   51894336|         28.99|       1.0|013E2F70F997F009EE13|          NAO|       Site|\n",
      "|      2522184|           3547731|2023-11-01 21:00:00|  404767766|          6.39|       1.0|0407DE39DED3999F90A8|          NAO|       Site|\n",
      "|      2522184|           3547731|2023-11-01 21:00:00|  450282326|        232.64|       1.0|0407DE39DED3999F90A8|          NAO|       Site|\n",
      "|      2522184|           3547731|2023-11-01 21:00:00|  405263976|         14.99|       1.0|0407DE39DED3999F90A8|          NAO|       Site|\n",
      "|      2522884|           3629131|2023-12-03 21:00:00|  442335946|         24.56|       1.0|04EE3D8111F6BF0EE071|          NAO|       Loja|\n",
      "|      2522884|           3629131|2023-12-03 21:00:00|  448571526|         41.99|       1.0|04EE3D8111F6BF0EE071|          NAO|       Loja|\n",
      "|      2720984|           3733631|2023-09-21 21:00:00|  404347086|          0.98|       2.0|0481977E78112CCB1F4F|          NAO|       Loja|\n",
      "|      2720984|           3733631|2023-09-21 21:00:00|  404199276|         29.28|       1.0|0481977E78112CCB1F4F|          NAO|       Loja|\n",
      "|      2720984|           3733631|2023-09-21 21:00:00|  462074626|          33.1|       1.0|0481977E78112CCB1F4F|          NAO|       Loja|\n",
      "|      2720984|           3733631|2023-09-21 21:00:00|  459453826|         35.89|       1.0|0481977E78112CCB1F4F|          NAO|       Loja|\n",
      "|      2718884|           3839231|2023-11-04 21:00:00|  514138326|         13.99|       1.0|02567D996E743C659C9A|          NAO|       Site|\n",
      "|      2716084|           3918431|2023-11-01 21:00:00|  404148576|         39.67|       1.0|0538B6F8EDAFA775D914|          NAO|       Site|\n",
      "|      2716084|           3918431|2023-11-01 21:00:00|  434975086|          4.49|       1.0|0538B6F8EDAFA775D914|          NAO|       Site|\n",
      "|      2712584|           4072431|2023-08-25 21:00:00|  404258166|         13.49|       1.0|022C75950102C87D0CA2|          NAO|       Loja|\n",
      "|      2712584|           4072431|2023-08-25 21:00:00|  509735226|          12.9|       1.0|022C75950102C87D0CA2|          NAO|       Loja|\n",
      "|      2712584|           4072431|2023-08-25 21:00:00|  464703226|         14.28|       1.0|022C75950102C87D0CA2|          NAO|       Loja|\n",
      "+-------------+------------------+-------------------+-----------+--------------+----------+--------------------+-------------+-----------+\n",
      "only showing top 20 rows\n",
      "\n"
     ]
    }
   ],
   "source": [
    "vendas.show()"
   ]
  },
  {
   "cell_type": "code",
   "execution_count": 7,
   "metadata": {},
   "outputs": [
    {
     "name": "stdout",
     "output_type": "stream",
     "text": [
      "+--------------------+---------------+-----+----+------------+-------------+------------+--------------+-------------+---------------+--------------+\n",
      "|      codigo_cliente|data_nascimento|idade|sexo|          uf|       cidade|estado_civil|flag_lgpd_call|flag_lgpd_sms|flag_lgpd_email|flag_lgpd_push|\n",
      "+--------------------+---------------+-----+----+------------+-------------+------------+--------------+-------------+---------------+--------------+\n",
      "|0000009DB36F622B7639|     2003-11-14|   20|   F|          RS| PORTO ALEGRE|           0|  Desconhecido| Desconhecido|   Desconhecido|  Desconhecido|\n",
      "|000000F51C15031D708E|     2008-03-23|   16|   F|          SC|        LAGES|           0|  Desconhecido| Desconhecido|   Desconhecido|  Desconhecido|\n",
      "|00000F54BE2BBF0E7B13|     1986-02-24|   38|   F|Desconhecido| Desconhecido|           0|  Desconhecido| Desconhecido|   Desconhecido|  Desconhecido|\n",
      "|000013E1FB44D9A9E50F|     1984-12-13|   39|   M|Desconhecido| Desconhecido|           0|  Desconhecido|          Sim|            Sim|  Desconhecido|\n",
      "|00001522AD94645C7688|     1992-11-10|   31|   F|          SC|     SAO JOSE|           2|           Sim|          Sim|            Sim|           Sim|\n",
      "|00001522AD94645C7688|     1992-11-10|   31|   F|          SC|     SAO JOSE|           2|           Sim|          Sim|            Sim|           Sim|\n",
      "|00001522AD94645C7688|     1992-11-10|   31|   F|          SC|FLORIANOPOLIS|           2|           Sim|          Sim|            Sim|           Sim|\n",
      "|0000161185110EE1BBE5|     1975-12-27|   48|   F|          SP|    SAO PAULO|           0|  Desconhecido|          Sim|   Desconhecido|  Desconhecido|\n",
      "|0000269BBD1888477D56|     1961-10-25|   63|   M|          PR|    PARANAVAI|           0|  Desconhecido| Desconhecido|            Não|  Desconhecido|\n",
      "|0000269BBD1888477D56|     1961-10-25|   63|   M|          PR|    PARANAVAI|           0|  Desconhecido| Desconhecido|            Não|  Desconhecido|\n",
      "|0000289F7EF0375B679D|     1983-11-05|   40|   F|          RS|CAXIAS DO SUL|           1|           Sim|          Sim|            Sim|           Sim|\n",
      "|00002A10FB7B5E5CB107|     1991-08-19|   33|   M|          RS|CAXIAS DO SUL|           0|  Desconhecido|          Sim|   Desconhecido|  Desconhecido|\n",
      "|00002F84FF8B063A952C|     1975-06-13|   49|   F|          SC|    JOINVILLE|           0|  Desconhecido|          Não|   Desconhecido|  Desconhecido|\n",
      "|000033354ABAAD3F2FA8|     1964-01-01|   60|   F|          RS| PORTO ALEGRE|           1|           Não|          Não|            Não|           Não|\n",
      "|000033354ABAAD3F2FA8|     1964-01-01|   60|   F|          RS| PORTO ALEGRE|           1|           Não|          Não|            Não|           Não|\n",
      "|00003490C16D52FEB4C2|     2004-03-20|   20|   F|Desconhecido| Desconhecido|           0|  Desconhecido| Desconhecido|   Desconhecido|  Desconhecido|\n",
      "|000040FC122DB8AEEF51|     1982-04-06|   42|   F|Desconhecido| Desconhecido|           0|  Desconhecido| Desconhecido|            Sim|  Desconhecido|\n",
      "|000042FA835BDA98ACCE|     1965-05-03|   59|   M|          RS|  PASSO FUNDO|           2|           Não|          Não|            Não|           Não|\n",
      "|000042FA835BDA98ACCE|     1965-05-03|   59|   M|          RS|  PASSO FUNDO|           2|           Não|          Não|            Não|           Não|\n",
      "|000046B0542EFC2E550A|     1990-06-02|   34|   F|          PR| PONTA GROSSA|           1|  Desconhecido|          Sim|            Sim|           Sim|\n",
      "+--------------------+---------------+-----+----+------------+-------------+------------+--------------+-------------+---------------+--------------+\n",
      "only showing top 20 rows\n",
      "\n"
     ]
    }
   ],
   "source": [
    "clientes.show()"
   ]
  }
 ],
 "metadata": {
  "kernelspec": {
   "display_name": "Python 3",
   "language": "python",
   "name": "python3"
  },
  "language_info": {
   "codemirror_mode": {
    "name": "ipython",
    "version": 3
   },
   "file_extension": ".py",
   "mimetype": "text/x-python",
   "name": "python",
   "nbconvert_exporter": "python",
   "pygments_lexer": "ipython3",
   "version": "3.12.6"
  }
 },
 "nbformat": 4,
 "nbformat_minor": 2
}
